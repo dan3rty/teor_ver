{
 "cells": [
  {
   "cell_type": "markdown",
   "metadata": {},
   "source": [
    "# 7. Математическое ожидание и дисперсия"
   ]
  },
  {
   "cell_type": "code",
   "execution_count": 1,
   "metadata": {},
   "outputs": [],
   "source": [
    "import random as rd\n",
    "import numpy as np"
   ]
  },
  {
   "cell_type": "markdown",
   "metadata": {},
   "source": [
    "**Математическим ожиданием** дискретной случайной величины $X$, принимающей значения $a_1,a_2,…$ и имеющей функцию вероятности $p$, называется число\n",
    "$$\n",
    "E[X] = \\sum_{i} a_i P(X=a_i ) = \\sum_i a_i p_i.\n",
    "$$\n",
    "\n",
    "**Математическим ожиданием** непрерывной случайной величины $X$ с функцией плотности вероятности $f$ называется число\n",
    "$$\n",
    "E[X] = \\int\\limits_{-\\infty}^{+\\infty} x f(x) dx.\n",
    "$$\n",
    "\n",
    "**Дисперсия** $Var(X)$ случайной величины $X$ равна числу\n",
    "$$\n",
    "Var(X)=E \\bigl[\\bigl(X-E[X]\\bigr)^2\\bigr] = E\\bigl[X^2\\bigr] - \\bigl(E[X]\\bigr)^2.\n",
    "$$\n",
    "\n",
    "На практике часто используется **стандартное отклонение**, определяемое $\\sqrt{(Var(X)}$, поскольку оно имеет ту же размерность, что и $E[X]$.\n"
   ]
  },
  {
   "cell_type": "code",
   "execution_count": 23,
   "metadata": {},
   "outputs": [
    {
     "name": "stdout",
     "output_type": "stream",
     "text": [
      "[ 5 10 15 20 25 30]\n",
      "[ 1  4  9 16 25 36]\n",
      "[0.16666667 0.33333333 0.5        0.66666667 0.83333333 1.        ]\n",
      "21\n"
     ]
    }
   ],
   "source": [
    "# Так можно задать массив T и p\n",
    "T = np.array([1, 2, 3, 4, 5, 6])\n",
    "p = np.array([1/6, 1/6, 1/6, 1/6, 1/6, 1/6])\n",
    "# со всеми элеемнтами массива одновременно можно выполнять действия\n",
    "\n",
    "# умножать на 5\n",
    "print(T * 5)\n",
    "# или возводить в квадрат\n",
    "print(T ** 2)\n",
    "#или перемножить поэлементно члены двух массив\n",
    "print(p * T)\n",
    "# или найти сумму элементов в массиве\n",
    "print(sum (T))"
   ]
  },
  {
   "cell_type": "markdown",
   "metadata": {},
   "source": [
    "**1. [#10] a.** Пусть $T$ – результат броска игрального кубика.\n",
    "\n",
    "**a.** Опишите распределение вероятностей $T$, т.е. перечислите исходы и соответствующие им вероятности.\n",
    "\n",
    "**b.** Определить $E[T]$ и $Var(T)$.\n"
   ]
  },
  {
   "cell_type": "code",
   "execution_count": null,
   "metadata": {},
   "outputs": [],
   "source": []
  },
  {
   "cell_type": "code",
   "execution_count": null,
   "metadata": {},
   "outputs": [],
   "source": []
  },
  {
   "cell_type": "markdown",
   "metadata": {},
   "source": [
    "**2. [# 10]** Распределение вероятностей дискретной случайной величины $X$ задается следующим образом\n",
    "$$\n",
    "P(X=-1)= {1 \\over 5}, \\quad P(X=0)= {2 \\over 5}, \\quad P(X=1)= {2 \\over 5}.\n",
    "$$\n",
    "**a.** Вычислить $E[X]$.\n",
    "\n",
    "**b.** Напишите распределение вероятностей $Y=X^2$ и вычислите $E[Y]$, используя распределение $Y$.\n",
    "\n",
    "**c.** Определите $Var(X)$.\n"
   ]
  },
  {
   "cell_type": "code",
   "execution_count": null,
   "metadata": {},
   "outputs": [],
   "source": []
  },
  {
   "cell_type": "markdown",
   "metadata": {},
   "source": [
    "**3. [# 5]** Известно, что для некоторой случайной величины $X$ $E[X]=2$, $Var(X)=3$. Найдите $E[X^2]$."
   ]
  },
  {
   "cell_type": "code",
   "execution_count": null,
   "metadata": {},
   "outputs": [],
   "source": []
  },
  {
   "cell_type": "markdown",
   "metadata": {},
   "source": [
    "**4. [# 5]** Пусть $X$ -- случайная величина с $E[X]=2$, $Var(X)=4$. Вычислите математическое ожидание и дисперсию для $3-2X$."
   ]
  },
  {
   "cell_type": "code",
   "execution_count": null,
   "metadata": {},
   "outputs": [],
   "source": []
  },
  {
   "cell_type": "markdown",
   "metadata": {},
   "source": [
    "**5. [# 5]** Определить матожидание и дисперсию распределения $Ber(p)$."
   ]
  },
  {
   "cell_type": "code",
   "execution_count": null,
   "metadata": {},
   "outputs": [],
   "source": []
  },
  {
   "cell_type": "markdown",
   "metadata": {},
   "source": [
    "**6. [# 10]** Случайная величина $Z$ имеет функцию плотности вероятности\n",
    "\n",
    "$f(z)= {3 \\over 19} z^2$ для $2≤z≤3$ и $f(z)=0$ иначе.\n",
    "\n",
    "Определить $E[Z]$. Прежде чем приступить к вычислениям, определите, будет ли ответ лежать ближе к 2, чем к 3, или наоборот?"
   ]
  },
  {
   "cell_type": "code",
   "execution_count": null,
   "metadata": {},
   "outputs": [],
   "source": []
  },
  {
   "cell_type": "markdown",
   "metadata": {},
   "source": [
    "**7. [# 10]** Дана случайная величина $X$ с функцией плотности вероятности $f$, заданной \n",
    "\n",
    "$f(x)=0$ для $x<0$ и для $x>1$, и $f(x)=4x-4x^3$ для $0≤x≤1$.\n",
    "\n",
    "Определите матожидание и дисперсию случайной величины $2X+3$."
   ]
  },
  {
   "cell_type": "code",
   "execution_count": null,
   "metadata": {},
   "outputs": [],
   "source": []
  },
  {
   "cell_type": "markdown",
   "metadata": {},
   "source": [
    "**8. [# 10]** Дана непрерывная случайная величина $X$, функция распределения которой $F$ удовлетворяет условиям\n",
    "\n",
    "$F(x)=0$ для $x<0$,\n",
    "\n",
    "$F(x)=1$ для $x>1$,\n",
    "\n",
    "$F(x)=x(2-x)$ для $0≤x≤1$.\n",
    "\n",
    "Определите $E[X]$."
   ]
  },
  {
   "cell_type": "code",
   "execution_count": null,
   "metadata": {},
   "outputs": [],
   "source": []
  },
  {
   "cell_type": "markdown",
   "metadata": {},
   "source": [
    "**9. [# 5]** Пусть $U$ -- случайная величина с распределением $U(α,β)$.\n",
    "\n",
    "**a.** Определите матожидание $U$.\n",
    "\n",
    "**b.** Определить дисперсию $U$."
   ]
  },
  {
   "cell_type": "code",
   "execution_count": null,
   "metadata": {},
   "outputs": [],
   "source": []
  }
 ],
 "metadata": {
  "kernelspec": {
   "display_name": "Python 3",
   "language": "python",
   "name": "python3"
  },
  "language_info": {
   "codemirror_mode": {
    "name": "ipython",
    "version": 3
   },
   "file_extension": ".py",
   "mimetype": "text/x-python",
   "name": "python",
   "nbconvert_exporter": "python",
   "pygments_lexer": "ipython3",
   "version": "3.8.3"
  }
 },
 "nbformat": 4,
 "nbformat_minor": 1
}
